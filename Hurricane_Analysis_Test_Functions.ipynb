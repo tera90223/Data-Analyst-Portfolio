{
 "cells": [
  {
   "cell_type": "markdown",
   "id": "c7ed23b7",
   "metadata": {},
   "source": [
    "# Hurricane Analysis\n",
    "\n",
    "Write several functions that organize and manipulate data about Category 5 Hurricanes. Functions will test user of parameters, conditionals, lists, dictionaries, string manipulation, and return statements."
   ]
  },
  {
   "cell_type": "code",
   "execution_count": 28,
   "id": "66e150f0",
   "metadata": {},
   "outputs": [],
   "source": [
    "#names of the Hurricanes\n",
    "\n",
    "names = ['Cuba I', 'San Felipe II Okeechobee', 'Bahamas', 'Cuba II', 'CubaBrownsville', 'Tampico', 'Labor Day', 'New England', \\\n",
    "         'Carol', 'Janet', 'Carla', 'Hattie', 'Beulah', 'Camille', 'Edith', 'Anita', 'David', 'Allen', 'Gilbert', 'Hugo', \\\n",
    "         'Andrew', 'Mitch', 'Isabel', 'Ivan', 'Emily', 'Katrina', 'Rita', 'Wilma', 'Dean', 'Felix', 'Matthew', 'Irma', 'Maria', \\\n",
    "         'Michael']\n"
   ]
  },
  {
   "cell_type": "code",
   "execution_count": 29,
   "id": "1374e489",
   "metadata": {},
   "outputs": [],
   "source": [
    "# months in which the hurricanes occurred\n",
    "months = ['October', 'September', 'September', 'November', 'August', 'September', 'September', 'September', 'September', \\\n",
    "          'September', 'September', 'October', 'September', 'August', 'September', 'September', 'August', 'August', 'September', \\\n",
    "          'September', 'August', 'October', 'September', 'September', 'July', 'August', 'September', 'October', 'August', \\\n",
    "          'September', 'October', 'September', 'September', 'October']\n"
   ]
  },
  {
   "cell_type": "code",
   "execution_count": 30,
   "id": "40753271",
   "metadata": {},
   "outputs": [],
   "source": [
    "# years in which the hurricanes occurred\n",
    "years = [1924, 1928, 1932, 1932, 1933, 1933, 1935, 1938, 1953, 1955, 1961, 1961, 1967, 1969, 1971, 1977, 1979, 1980, 1988, \\\n",
    "         1989, 1992, 1998, 2003, 2004, 2005, 2005, 2005, 2005, 2007, 2007, 2016, 2017, 2017, 2018]\n"
   ]
  },
  {
   "cell_type": "code",
   "execution_count": 31,
   "id": "d7c76200",
   "metadata": {},
   "outputs": [],
   "source": [
    "# maximum sustained winds (mph) of hurricanes\n",
    "max_sustained_winds = [165, 160, 160, 175, 160, 160, 185, 160, 160, 175, 175, 160, 160, 175, 160, 175, 175, 190, 185, 160, \\\n",
    "                       175, 180, 165, 165, 160, 175, 180, 185, 175, 175, 165, 180, 175, 160]"
   ]
  },
  {
   "cell_type": "code",
   "execution_count": 32,
   "id": "1fa82284",
   "metadata": {},
   "outputs": [],
   "source": [
    "# areas affected by each hurricane\n",
    "areas_affected = [['Central America', 'Mexico', 'Cuba', 'Florida', 'The Bahamas'], \\\n",
    "                  ['Lesser Antilles', 'The Bahamas', 'United States East Coast', 'Atlantic Canada'], \\\n",
    "                  ['The Bahamas', 'Northeastern United States'], \\\n",
    "                  ['Lesser Antilles', 'Jamaica', 'Cayman Islands', 'Cuba', 'The Bahamas', 'Bermuda'], \\\n",
    "                  ['The Bahamas', 'Cuba', 'Florida', 'Texas', 'Tamaulipas'], ['Jamaica', 'Yucatn Peninsula'], \\\n",
    "                  ['The Bahamas', 'Florida', 'Georgia', 'The Carolinas', 'Virginia'], \\\n",
    "                  ['Southeastern United States', 'Northeastern United States', 'Southwestern Quebec'], \\\n",
    "                  ['Bermuda', 'New England', 'Atlantic Canada'], ['Lesser Antilles', 'Central America'], \\\n",
    "                  ['Texas', 'Louisiana', 'Midwestern United States'], ['Central America'], ['The Caribbean', 'Mexico', 'Texas'],\\\n",
    "                  ['Cuba', 'United States Gulf Coast'], ['The Caribbean', 'Central America', 'Mexico', 'United States Gulf Coast'], \\\n",
    "                  ['Mexico'], ['The Caribbean', 'United States East coast'], \\\n",
    "                  ['The Caribbean', 'Yucatn Peninsula', 'Mexico', 'South Texas'], \\\n",
    "                  ['Jamaica', 'Venezuela', 'Central America', 'Hispaniola', 'Mexico'], \\\n",
    "                  ['The Caribbean', 'United States East Coast'], ['The Bahamas', 'Florida', 'United States Gulf Coast'], \\\n",
    "                  ['Central America', 'Yucatn Peninsula', 'South Florida'], \\\n",
    "                  ['Greater Antilles', 'Bahamas', 'Eastern United States', 'Ontario'], \\\n",
    "                  ['The Caribbean', 'Venezuela', 'United States Gulf Coast'], ['Windward Islands', 'Jamaica', 'Mexico', 'Texas'],\\\n",
    "                  ['Bahamas', 'United States Gulf Coast'], ['Cuba', 'United States Gulf Coast'], \\\n",
    "                  ['Greater Antilles', 'Central America', 'Florida'], ['The Caribbean', 'Central America'], \\\n",
    "                  ['Nicaragua', 'Honduras'], ['Antilles', 'Venezuela', 'Colombia', 'United States East Coast', 'Atlantic Canada'],\\\n",
    "                  ['Cape Verde', 'The Caribbean', 'British Virgin Islands', 'U.S. Virgin Islands', 'Cuba', 'Florida'], \\\n",
    "                  ['Lesser Antilles', 'Virgin Islands', 'Puerto Rico', 'Dominican Republic', 'Turks and Caicos Islands'], \\\n",
    "                  ['Central America', 'United States Gulf Coast (especially Florida Panhandle)']]"
   ]
  },
  {
   "cell_type": "code",
   "execution_count": 33,
   "id": "c84286f0",
   "metadata": {},
   "outputs": [],
   "source": [
    "# damages total cost (USD($)) of damages per hurricanes\n",
    "damages = ['Damages not recorded', '100M', 'Damages not recorded', '40M', '27.9M', '5M', 'Damages not recorded', '306M', \\\n",
    "           '2M', '65.8M', '326M', '60.3M', '208M', '1.42B', '25.4M', 'Damages not recorded', '1.54B', '1.24B', '7.1B', '10B', \\\n",
    "           '26.5B', '6.2B', '5.37B', '23.3B', '1.01B', '125B', '12B', '29.4B', '1.76B', '720M', '15.1B', '64.8B', '91.6B', \\\n",
    "           '25.1B']"
   ]
  },
  {
   "cell_type": "code",
   "execution_count": 34,
   "id": "0d9bd249",
   "metadata": {},
   "outputs": [],
   "source": [
    "# deaths for each hurricane\n",
    "deaths = [90,4000,16,3103,179,184,408,682,5,1023,43,319,688,259,37,11,2068,269,318,107,65,19325,51,124,17,1836,125,87,45,133,\\\n",
    "          603,138,3057,74]"
   ]
  },
  {
   "cell_type": "code",
   "execution_count": 35,
   "id": "2dcf511f",
   "metadata": {},
   "outputs": [],
   "source": [
    "from Hurricane_Analysis import *"
   ]
  },
  {
   "cell_type": "markdown",
   "id": "de904780",
   "metadata": {},
   "source": [
    "## Test Function: updated_damages\n",
    "\n",
    "The damages list currently contains strings representing the total cost in USD($) caused by category 5 hurricanes. Some of the hurricanes do not have costs recorded, and has been notated as 'Damages not recorded'. The rest have Prefixes either ending in B for billions or M for millions. \n",
    "\n",
    "updated_damages function returns a new list of values converted into float data types. The missing data should still report 'Damages not recorded'."
   ]
  },
  {
   "cell_type": "code",
   "execution_count": 36,
   "id": "d0eeb46d",
   "metadata": {},
   "outputs": [
    {
     "data": {
      "text/plain": [
       "['Damages not recorded',\n",
       " 100000000.0,\n",
       " 'Damages not recorded',\n",
       " 40000000.0,\n",
       " 27900000.0,\n",
       " 5000000.0,\n",
       " 'Damages not recorded',\n",
       " 306000000.0,\n",
       " 2000000.0,\n",
       " 65800000.0,\n",
       " 326000000.0,\n",
       " 60300000.0,\n",
       " 208000000.0,\n",
       " 1420000000.0,\n",
       " 25400000.0,\n",
       " 'Damages not recorded',\n",
       " 1540000000.0,\n",
       " 1240000000.0,\n",
       " 7100000000.0,\n",
       " 10000000000.0,\n",
       " 26500000000.0,\n",
       " 6200000000.0,\n",
       " 5370000000.0,\n",
       " 23300000000.0,\n",
       " 1010000000.0,\n",
       " 125000000000.0,\n",
       " 12000000000.0,\n",
       " 29400000000.0,\n",
       " 1760000000.0,\n",
       " 720000000.0,\n",
       " 15100000000.0,\n",
       " 64800000000.0,\n",
       " 91600000000.0,\n",
       " 25100000000.0]"
      ]
     },
     "execution_count": 36,
     "metadata": {},
     "output_type": "execute_result"
    }
   ],
   "source": [
    "test_damages = updated_damages(damages)\n",
    "test_damages"
   ]
  },
  {
   "cell_type": "markdown",
   "id": "4df94207",
   "metadata": {},
   "source": [
    "## Test Function: hurricane_information\n",
    "\n",
    "It is implied that each lists index, from 0 to 33, corresponds to one specific hurricane. \n",
    "\n",
    "hurricane_information takes the 7 lists and creates a dictionary for each hurricane where the key is the hurricane's name and the value is a dictionary containing the specific information for a hurricane. "
   ]
  },
  {
   "cell_type": "code",
   "execution_count": 37,
   "id": "428534b9",
   "metadata": {},
   "outputs": [
    {
     "data": {
      "text/plain": [
       "{'Name': 'Michael',\n",
       " 'Month': 'October',\n",
       " 'Year': 2018,\n",
       " 'Max Sustained Wind': 160,\n",
       " 'Areas Affected': ['Central America',\n",
       "  'United States Gulf Coast (especially Florida Panhandle)'],\n",
       " 'Damage': 25100000000.0,\n",
       " 'Deaths': 74}"
      ]
     },
     "execution_count": 37,
     "metadata": {},
     "output_type": "execute_result"
    }
   ],
   "source": [
    "name_hurricane_dictionary = hurricane_information(names, months, years, \\\n",
    "                                                  max_sustained_winds, \\\n",
    "                                                  areas_affected, damages, \\\n",
    "                                                  deaths)\n",
    "#Last Hurricane on the List\n",
    "name_hurricane_dictionary['Michael']"
   ]
  },
  {
   "cell_type": "markdown",
   "id": "b52ddf69",
   "metadata": {},
   "source": [
    "## Test Function: hurricane_information_by_year\n",
    "\n",
    "The previous function organizes the hurricane information in a dictionary by name. This function will organize hurricane information by year. \n",
    "\n",
    "hurricane_information_by_year converts the `name_hurricane_dictionary` to a new dictionary where the keys are years and the values are lists containing a dictionary for each hurricane that occured in that year."
   ]
  },
  {
   "cell_type": "code",
   "execution_count": 38,
   "id": "40b836c3",
   "metadata": {},
   "outputs": [
    {
     "data": {
      "text/plain": [
       "[{'Name': 'Bahamas',\n",
       "  'Month': 'September',\n",
       "  'Year': 1932,\n",
       "  'Max Sustained Wind': 160,\n",
       "  'Areas Affected': ['The Bahamas', 'Northeastern United States'],\n",
       "  'Damage': 'Damages not recorded',\n",
       "  'Deaths': 16},\n",
       " {'Name': 'Cuba II',\n",
       "  'Month': 'November',\n",
       "  'Year': 1932,\n",
       "  'Max Sustained Wind': 175,\n",
       "  'Areas Affected': ['Lesser Antilles',\n",
       "   'Jamaica',\n",
       "   'Cayman Islands',\n",
       "   'Cuba',\n",
       "   'The Bahamas',\n",
       "   'Bermuda'],\n",
       "  'Damage': 40000000.0,\n",
       "  'Deaths': 3103}]"
      ]
     },
     "execution_count": 38,
     "metadata": {},
     "output_type": "execute_result"
    }
   ],
   "source": [
    "year_hurricane_dictionary = hurricane_information_by_year(name_hurricane_dictionary)\n",
    "year_hurricane_dictionary[1932]"
   ]
  },
  {
   "cell_type": "markdown",
   "id": "fa2e0bb0",
   "metadata": {},
   "source": [
    "## Test Function: count_affected_areas\n",
    "\n",
    "This function keeps track of how often affected areas are hit by strong hurricanes. This is important for making preparations for future hurricanes. \n",
    "\n",
    "count_affected_areas converts `name_hurricane_dictionary` to a new dictionary where the keys are the affected areas and the values are counts of how many times the areas were affected. "
   ]
  },
  {
   "cell_type": "code",
   "execution_count": 48,
   "id": "cd0686dc",
   "metadata": {},
   "outputs": [
    {
     "name": "stdout",
     "output_type": "stream",
     "text": [
      "The count is correct.  Mexico was hit 7 times!\n"
     ]
    }
   ],
   "source": [
    "affected_areas_count_dictionary = count_affected_areas(name_hurricane_dictionary)\n",
    "\n",
    "#Storing the Mexico Count in my Dictionary (7)\n",
    "mexico_count = affected_areas_count_dictionary['Mexico']\n",
    "\n",
    "#Intializing a counter\n",
    "count = 0\n",
    "\n",
    "#Parsing through the areas_affected list and counting the\n",
    "#number of times Mexico is listed\n",
    "for hurricane_countries in areas_affected:\n",
    "    for country in hurricane_countries:\n",
    "        if country == 'Mexico':\n",
    "            count += 1\n",
    "\n",
    "#If both counts are equal, print The count is correct, else print The count\n",
    "#is incorrect\n",
    "if  mexico_count == count:\n",
    "    print(\"The count is correct.  Mexico was hit \" + str(mexico_count) + ' times!')\n",
    "else:\n",
    "    print(\"The count is incorrect\")\n",
    "    print(count)"
   ]
  },
  {
   "cell_type": "markdown",
   "id": "ca76d0f6",
   "metadata": {},
   "source": [
    "## Test Function: most_affected_area\n",
    "\n",
    "most_affected_area sorts `affected_areas_count_dictionary` and returns the area that was hit by the most hurricanes and how often it was affected. "
   ]
  },
  {
   "cell_type": "code",
   "execution_count": 46,
   "id": "66658aa8",
   "metadata": {},
   "outputs": [
    {
     "name": "stdout",
     "output_type": "stream",
     "text": [
      "The country affected by the most hurricanes, Central America, was hit 9 times!\n"
     ]
    }
   ],
   "source": [
    "most_affected_country = most_affected_area(affected_areas_count_dictionary)\n",
    "\n",
    "print('The country affected by the most hurricanes, ' + most_affected_country[0] \\\n",
    "     + ', was hit ' + str(most_affected_country[1]) + ' times!')"
   ]
  },
  {
   "cell_type": "markdown",
   "id": "7b8a7336",
   "metadata": {},
   "source": [
    "## Test Function: most_hurricane_deaths\n",
    "\n",
    "most_hurricane_deaths parses through `name_hurricane_dictionary` and finds the hurricane that caused the greatest number of deaths and returns the hurricane name and the number of deaths it caused."
   ]
  },
  {
   "cell_type": "code",
   "execution_count": 59,
   "id": "8fc236eb",
   "metadata": {},
   "outputs": [
    {
     "name": "stdout",
     "output_type": "stream",
     "text": [
      "The Atlantic Hurricane, Mitch, was the most devastating of the strongest Atlantic hurricanes, taking 19325 lives.\n"
     ]
    }
   ],
   "source": [
    "hurricane_death = most_hurricane_deaths(name_hurricane_dictionary)\n",
    "\n",
    "if hurricane_death[1] == max(deaths):\n",
    "    print(\"The Atlantic Hurricane, \" + hurricane_death[0] + ', was the most devastating of the strongest Atlantic hurricanes, taking ' + str(hurricane_death[1]) + ' lives.')"
   ]
  },
  {
   "cell_type": "markdown",
   "id": "6dacea79",
   "metadata": {},
   "source": [
    "## Test Function: mortality_ratings\n",
    "\n",
    "Hurricanes are rated based on many metrics. This function will rate hurricanes based on a mortality scale.\n",
    "\n",
    "|Mortality Scale | Bounds |\n",
    "|:-:|:-:|\n",
    "|0| Deaths == 0\n",
    "|1| Deaths > 0 && Deaths <=100|\n",
    "|2| Deaths > 100 && Deaths <=500|\n",
    "|3| Deaths > 500 && Deaths <=1000|\n",
    "|4| Deaths > 1000 && Deaths <= 10000|\n",
    "|5| Deaths > 10000|\n",
    "\n",
    "\n",
    "mortality_ratings parses through `name_hurricane_dictionary` and rates hurricanes on this mortality scale and stores the hurricanes in a new dictionary where the keys are the mortality ratings and the values are lists containing a dictionary for each hurricane that falls into the mortality rating. "
   ]
  },
  {
   "cell_type": "code",
   "execution_count": 77,
   "id": "4d6656c5",
   "metadata": {},
   "outputs": [
    {
     "data": {
      "text/plain": [
       "[{'Name': 'Mitch',\n",
       "  'Month': 'October',\n",
       "  'Year': 1998,\n",
       "  'Max Sustained Wind': 180,\n",
       "  'Areas Affected': ['Central America', 'Yucatn Peninsula', 'South Florida'],\n",
       "  'Damage': 6200000000.0,\n",
       "  'Deaths': 19325}]"
      ]
     },
     "execution_count": 77,
     "metadata": {},
     "output_type": "execute_result"
    }
   ],
   "source": [
    "mortality_dict = mortality_ratings(name_hurricane_dictionary)\n",
    "\n",
    "mortality_dict[5]"
   ]
  },
  {
   "cell_type": "markdown",
   "id": "9542ab64",
   "metadata": {},
   "source": [
    "## Test Function: most_damage\n",
    "\n",
    "most_damage parses through `name_hurricane_dictionary` and finds the hurricane that causes the greatest damage. It returns the hurricane name and the hurricane damage cost. "
   ]
  },
  {
   "cell_type": "code",
   "execution_count": 78,
   "id": "5d632629",
   "metadata": {},
   "outputs": [
    {
     "name": "stdout",
     "output_type": "stream",
     "text": [
      "Hurricane Katrina was the most catastrophic in damages costing the US $125,000,000,000.0.\n"
     ]
    }
   ],
   "source": [
    "hurricane_most_damage = most_damage(name_hurricane_dictionary)\n",
    "damage_cost = '${:,}'.format(hurricane_most_damage[1])\n",
    "\n",
    "print('Hurricane ' + hurricane_most_damage[0] + ' was the most catastrophic in damages costing the US ' + damage_cost + '.')"
   ]
  },
  {
   "cell_type": "markdown",
   "id": "b1c996ef",
   "metadata": {},
   "source": [
    "## Test Function: damage_ratings\n",
    "\n",
    "Hurricanes are rated based on many metrics. This function will rate hurricanes based on a damage scale.\n",
    "\n",
    "|Damage Scale | Bounds |\n",
    "|:-:|:-:|\n",
    "|0| Damage == \\$0|\n",
    "|1| Damage > \\\\$0 && Damage <= \\\\$100,000,000|\n",
    "|2| Damage > \\\\$100,000,000 && Damage <= \\\\$1,000,000,000|\n",
    "|3| Damage > \\\\$1,000,000,000 && Damage <= \\\\$10,000,000,000|\n",
    "|4| Damage > \\\\$10,000,000,000 && Damage <= \\\\$50,000,000,000|\n",
    "|5| Damage > \\$50,000,000,000|\n",
    "\n",
    "damage_ratings parses through `name_hurricane_dictionary` and rates hurricanes on this damage scale and stores the hurricanes in a new dictionary where the keys are the damage ratings and the values are lists containing a dictionary for each hurricane that falls into the damage bounds."
   ]
  },
  {
   "cell_type": "code",
   "execution_count": 80,
   "id": "32774a73",
   "metadata": {},
   "outputs": [
    {
     "data": {
      "text/plain": [
       "[{'Name': 'Cuba I',\n",
       "  'Month': 'October',\n",
       "  'Year': 1924,\n",
       "  'Max Sustained Wind': 165,\n",
       "  'Areas Affected': ['Central America',\n",
       "   'Mexico',\n",
       "   'Cuba',\n",
       "   'Florida',\n",
       "   'The Bahamas'],\n",
       "  'Damage': 'Damages not recorded',\n",
       "  'Deaths': 90},\n",
       " {'Name': 'Bahamas',\n",
       "  'Month': 'September',\n",
       "  'Year': 1932,\n",
       "  'Max Sustained Wind': 160,\n",
       "  'Areas Affected': ['The Bahamas', 'Northeastern United States'],\n",
       "  'Damage': 'Damages not recorded',\n",
       "  'Deaths': 16},\n",
       " {'Name': 'Labor Day',\n",
       "  'Month': 'September',\n",
       "  'Year': 1935,\n",
       "  'Max Sustained Wind': 185,\n",
       "  'Areas Affected': ['The Bahamas',\n",
       "   'Florida',\n",
       "   'Georgia',\n",
       "   'The Carolinas',\n",
       "   'Virginia'],\n",
       "  'Damage': 'Damages not recorded',\n",
       "  'Deaths': 408},\n",
       " {'Name': 'Anita',\n",
       "  'Month': 'September',\n",
       "  'Year': 1977,\n",
       "  'Max Sustained Wind': 175,\n",
       "  'Areas Affected': ['Mexico'],\n",
       "  'Damage': 'Damages not recorded',\n",
       "  'Deaths': 11}]"
      ]
     },
     "execution_count": 80,
     "metadata": {},
     "output_type": "execute_result"
    }
   ],
   "source": [
    "damage_ratings_dict = damage_ratings(name_hurricane_dictionary)\n",
    "damage_ratings_dict[0]"
   ]
  },
  {
   "cell_type": "code",
   "execution_count": 81,
   "id": "7a1dd855",
   "metadata": {},
   "outputs": [
    {
     "data": {
      "text/plain": [
       "[{'Name': 'Katrina',\n",
       "  'Month': 'August',\n",
       "  'Year': 2005,\n",
       "  'Max Sustained Wind': 175,\n",
       "  'Areas Affected': ['Bahamas', 'United States Gulf Coast'],\n",
       "  'Damage': 125000000000.0,\n",
       "  'Deaths': 1836},\n",
       " {'Name': 'Irma',\n",
       "  'Month': 'September',\n",
       "  'Year': 2017,\n",
       "  'Max Sustained Wind': 180,\n",
       "  'Areas Affected': ['Cape Verde',\n",
       "   'The Caribbean',\n",
       "   'British Virgin Islands',\n",
       "   'U.S. Virgin Islands',\n",
       "   'Cuba',\n",
       "   'Florida'],\n",
       "  'Damage': 64800000000.0,\n",
       "  'Deaths': 138},\n",
       " {'Name': 'Maria',\n",
       "  'Month': 'September',\n",
       "  'Year': 2017,\n",
       "  'Max Sustained Wind': 175,\n",
       "  'Areas Affected': ['Lesser Antilles',\n",
       "   'Virgin Islands',\n",
       "   'Puerto Rico',\n",
       "   'Dominican Republic',\n",
       "   'Turks and Caicos Islands'],\n",
       "  'Damage': 91600000000.0,\n",
       "  'Deaths': 3057}]"
      ]
     },
     "execution_count": 81,
     "metadata": {},
     "output_type": "execute_result"
    }
   ],
   "source": [
    "damage_ratings_dict[5]"
   ]
  }
 ],
 "metadata": {
  "kernelspec": {
   "display_name": "Python 3",
   "language": "python",
   "name": "python3"
  },
  "language_info": {
   "codemirror_mode": {
    "name": "ipython",
    "version": 3
   },
   "file_extension": ".py",
   "mimetype": "text/x-python",
   "name": "python",
   "nbconvert_exporter": "python",
   "pygments_lexer": "ipython3",
   "version": "3.9.1"
  }
 },
 "nbformat": 4,
 "nbformat_minor": 5
}
